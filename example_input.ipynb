{
 "cells": [
  {
   "cell_type": "code",
   "execution_count": 3,
   "id": "96982a7b-0f16-43e9-a4c3-a30bd178c2cf",
   "metadata": {},
   "outputs": [
    {
     "name": "stdout",
     "output_type": "stream",
     "text": [
      "10\n"
     ]
    },
    {
     "name": "stderr",
     "output_type": "stream",
     "text": [
      "/tmp/ipykernel_664/1515985070.py:8: FutureWarning: You are using `torch.load` with `weights_only=False` (the current default value), which uses the default pickle module implicitly. It is possible to construct malicious pickle data which will execute arbitrary code during unpickling (See https://github.com/pytorch/pytorch/blob/main/SECURITY.md#untrusted-models for more details). In a future release, the default value for `weights_only` will be flipped to `True`. This limits the functions that could be executed during unpickling. Arbitrary objects will no longer be allowed to be loaded via this mode unless they are explicitly allowlisted by the user via `torch.serialization.add_safe_globals`. We recommend you start setting `weights_only=True` for any use case where you don't have full control of the loaded file. Please open an issue on GitHub for any issues related to this experimental feature.\n",
      "  sample = torch.load(\"runs/Jul04_15-03-17_a2eee0a0ed32/example_input.pt\")       # path to your saved sample\n"
     ]
    },
    {
     "ename": "NameError",
     "evalue": "name 'image' is not defined",
     "output_type": "error",
     "traceback": [
      "\u001b[0;31m---------------------------------------------------------------------------\u001b[0m",
      "\u001b[0;31mNameError\u001b[0m                                 Traceback (most recent call last)",
      "Cell \u001b[0;32mIn[3], line 13\u001b[0m\n\u001b[1;32m     10\u001b[0m sample[\u001b[38;5;241m0\u001b[39m]\u001b[38;5;241m.\u001b[39mshape\n\u001b[1;32m     11\u001b[0m \u001b[38;5;28mprint\u001b[39m(\u001b[38;5;28mlen\u001b[39m(sample))\n\u001b[0;32m---> 13\u001b[0m vol \u001b[38;5;241m=\u001b[39m \u001b[43mimage\u001b[49m[\u001b[38;5;241m0\u001b[39m]\u001b[38;5;241m.\u001b[39mnumpy()          \u001b[38;5;66;03m# (D,H,W)\u001b[39;00m\n\u001b[1;32m     14\u001b[0m mask_vol \u001b[38;5;241m=\u001b[39m mask[\u001b[38;5;241m0\u001b[39m]\u001b[38;5;241m.\u001b[39mnumpy()\n\u001b[1;32m     15\u001b[0m void_vol \u001b[38;5;241m=\u001b[39m void[\u001b[38;5;241m0\u001b[39m]\u001b[38;5;241m.\u001b[39mnumpy()\n",
      "\u001b[0;31mNameError\u001b[0m: name 'image' is not defined"
     ]
    }
   ],
   "source": [
    "# !pip install ipywidgets\n",
    "import torch\n",
    "from IPython.display import display\n",
    "import nibabel as nib\n",
    "import numpy as np\n",
    "import matplotlib.pyplot as plt\n",
    "\n",
    "sample = torch.load(\"runs/Jul04_15-03-17_a2eee0a0ed32/example_input.pt\")       # path to your saved sample\n",
    "\n",
    "image, mask, void, name, affine = sample\n",
    "print(len(sample))\n",
    "\n",
    "vol = image[0].numpy()          # (D,H,W)\n",
    "mask_vol = mask[0].numpy()\n",
    "void_vol = void[0].numpy()\n",
    "\n",
    "slice_idxs = np.where(mask_vol[0].any(axis=(1, 2)))[0]\n",
    "print(slice_idxs)        # e.g. [ 42  43  44  60  61]\n",
    "\n",
    "# Visualise those slices\n",
    "for z in slice_idxs:\n",
    "    fig, ax = plt.subplots(1, 3, figsize=(6, 3))\n",
    "    ax[0].imshow(vol[0][z], cmap='gray')\n",
    "    ax[0].set_title(f\"Image slice {z}\")\n",
    "    ax[0].axis(\"off\")\n",
    "\n",
    "    ax[1].imshow(mask_vol[0][z], cmap='gray')\n",
    "    ax[1].set_title(\"Mask\")\n",
    "    ax[1].axis(\"off\")\n",
    "\n",
    "    ax[2].imshow(void_vol[0][z], cmap='gray')\n",
    "    ax[2].set_title(\"Mask\")\n",
    "    ax[2].axis(\"off\")\n",
    "\n",
    "    plt.tight_layout()\n",
    "    plt.show()"
   ]
  },
  {
   "cell_type": "code",
   "execution_count": null,
   "id": "c71aad34-1b92-4fa2-81cb-8a0a461ee7b9",
   "metadata": {},
   "outputs": [],
   "source": []
  }
 ],
 "metadata": {
  "kernelspec": {
   "display_name": "Python3 (ipykernel)",
   "language": "python",
   "name": "python3"
  },
  "language_info": {
   "codemirror_mode": {
    "name": "ipython",
    "version": 3
   },
   "file_extension": ".py",
   "mimetype": "text/x-python",
   "name": "python",
   "nbconvert_exporter": "python",
   "pygments_lexer": "ipython3",
   "version": "3.11.11"
  }
 },
 "nbformat": 4,
 "nbformat_minor": 5
}
